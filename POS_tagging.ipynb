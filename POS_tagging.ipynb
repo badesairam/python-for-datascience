{
 "cells": [
  {
   "cell_type": "markdown",
   "metadata": {},
   "source": [
    "# POS tagging"
   ]
  },
  {
   "cell_type": "code",
   "execution_count": 4,
   "metadata": {},
   "outputs": [],
   "source": [
    "import nltk"
   ]
  },
  {
   "cell_type": "code",
   "execution_count": 13,
   "metadata": {
    "scrolled": true
   },
   "outputs": [
    {
     "name": "stdout",
     "output_type": "stream",
     "text": [
      "Using a POS tagger ====>  \n",
      "[('The', 'DT'), ('quick', 'JJ'), ('brown', 'NN'), ('fox', 'NN'), ('jumped', 'VBD'), ('over', 'IN'), ('the', 'DT'), ('lazy', 'JJ'), ('dog', 'NN'), ('and', 'CC'), ('easily', 'RB'), ('killed', 'VBD'), ('it', 'PRP')]\n",
      "VBD: verb, past tense\n",
      "    dipped pleaded swiped regummed soaked tidied convened halted registered\n",
      "    cushioned exacted snubbed strode aimed adopted belied figgered\n",
      "    speculated wore appreciated contemplated ...\n"
     ]
    }
   ],
   "source": [
    "text = nltk.word_tokenize(\"The quick brown fox jumped over the lazy dog and easily killed it\")\n",
    "# nltk.download('averaged_perceptron_tagger')\n",
    "# nltk.download('tagsets')\n",
    "#use a pos tagger\n",
    "print(\"Using a POS tagger ====>  \")\n",
    "print(nltk.pos_tag(text))\n",
    "nltk.help.upenn_tagset('VBD')"
   ]
  },
  {
   "cell_type": "code",
   "execution_count": 47,
   "metadata": {},
   "outputs": [
    {
     "name": "stdout",
     "output_type": "stream",
     "text": [
      "defaultdict(<class 'int'>, {})\n",
      "10\n"
     ]
    }
   ],
   "source": [
    "freq = nltk.defaultdict(lambda: nltk.defaultdict(int))\n",
    "freq['iit'] = 10\n",
    "print(freq['nit'])\n",
    "print(freq['iit'])"
   ]
  },
  {
   "cell_type": "markdown",
   "metadata": {},
   "source": [
    "<span style=\"color:blue\"> <font size=\"4\"> Tag of a word depends on the word and its context within a sentence</font> </span>\n",
    "\n",
    "\n"
   ]
  },
  {
   "cell_type": "code",
   "execution_count": 65,
   "metadata": {
    "scrolled": true
   },
   "outputs": [
    {
     "name": "stdout",
     "output_type": "stream",
     "text": [
      "Default tagger assigns NN to all ===> \n",
      " [('The', 'NN'), ('quick', 'NN'), ('brown', 'NN'), ('fox', 'NN'), ('jumped', 'NN'), ('over', 'NN'), ('the', 'NN'), ('lazy', 'NN'), ('dog', 'NN'), ('and', 'NN'), ('easily', 'NN'), ('killed', 'NN'), ('it', 'NN')]\n",
      "Default tagger acuracy :: 0.131\n",
      "Baseline tagger assigns NN to all ===> \n",
      " [('The', 'AT'), ('quick', 'NN'), ('brown', 'NN'), ('fox', 'NN'), ('jumped', 'NN'), ('over', 'NN'), ('the', 'AT'), ('lazy', 'NN'), ('dog', 'NN'), ('and', 'CC'), ('easily', 'NN'), ('killed', 'NN'), ('it', 'PPS')]\n",
      "Baseline tagger acuracy :: 0.461\n"
     ]
    }
   ],
   "source": [
    "from nltk.corpus import brown\n",
    "# nltk.download('brown')\n",
    "brown_tagged_sents = brown.tagged_sents(categories='news')\n",
    "brown_sents = brown.sents(categories='news')\n",
    "\n",
    "# a default tagger (lets give the most frequent tag which is NN)\n",
    "tokens = nltk.word_tokenize(\"The quick brown fox jumped over the lazy dog and easily killed it\")\n",
    "default_tagger = nltk.DefaultTagger(\"NN\")\n",
    "print(\"Default tagger assigns NN to all ===> \\n\", default_tagger.tag(tokens))\n",
    "print('Default tagger acuracy :: {:.3f}'.format(default_tagger.evaluate(brown_tagged_sents)))\n",
    "\n",
    "#get best 100 elements of the corpus with their most repeated tag \n",
    "\n",
    "fd = nltk.FreqDist(brown.words(categories='news'))\n",
    "cfd = nltk.ConditionalFreqDist(brown.tagged_words(categories='news'))\n",
    "most_freq_words = list(fd.keys())[:100] #get most frequent words\n",
    "likely_tags = dict((word, cfd[word].max()) for word in most_freq_words) # get tags of these \n",
    "# print(list(cfd['of'].max()))\n",
    "baseline_tagger = nltk.UnigramTagger(model=likely_tags,backoff=default_tagger) #if NOne do backoff\n",
    "print(\"Baseline tagger assigns NN to all ===> \\n\", baseline_tagger.tag(tokens)) \n",
    "print('Baseline tagger acuracy :: {:.3f}'.format(baseline_tagger.evaluate(brown_tagged_sents)))"
   ]
  },
  {
   "cell_type": "markdown",
   "metadata": {},
   "source": [
    "## N gram Taggers \n",
    "Uses previous n-1 tags and current word to predict the current POS<br>\n",
    "Problems with ngram taggers::<br>\n",
    "    1. size of the n-gram table with backoffs is sparse and huge <br>\n",
    "    2. only previous n-tags are conbsidered where there will be a lot of information in words itself\n"
   ]
  },
  {
   "cell_type": "code",
   "execution_count": 74,
   "metadata": {
    "scrolled": true
   },
   "outputs": [
    {
     "name": "stdout",
     "output_type": "stream",
     "text": [
      "[('High', 'JJ'), ('up', None), ('on', None), ('the', None), (\"President's\", None), ('priority', None), ('list', None), ('was', None), ('the', None), ('thorny', None), ('question', None), ('of', None), ('Bizerte', None), ('.', None)]\n",
      "0.10206319146815508\n",
      "0.843317053722715\n"
     ]
    }
   ],
   "source": [
    "brown_tagged_sents = brown.tagged_sents(categories='news')\n",
    "size = int(len(brown_tagged_sents) * 0.9)\n",
    "train_sents = brown_tagged_sents[:size]\n",
    "test_sents = brown_tagged_sents[size:]\n",
    "bigram_tagger = nltk.BigramTagger(train_sents) #training on train sentences\n",
    "print(bigram_tagger.tag(brown_sents[4300]))\n",
    "print(bigram_tagger.evaluate(test_sents))\n",
    "#performing worse as 'up' is tagged as None and in training None is not present in context and all subsequent words are None\n",
    "##use backoffs for better results\n",
    "t0 = nltk.DefaultTagger('NN')\n",
    "t1 = nltk.UnigramTagger(train_sents, backoff=t0)\n",
    "t2 = nltk.BigramTagger(train_sents, backoff=t1)\n",
    "t3 = nltk.TrigramTagger(train_sents,backoff=t2)\n",
    "print(t3.evaluate(test_sents))"
   ]
  },
  {
   "cell_type": "markdown",
   "metadata": {},
   "source": [
    "## Brill tagging "
   ]
  },
  {
   "cell_type": "code",
   "execution_count": 75,
   "metadata": {},
   "outputs": [],
   "source": [
    "#hehaa"
   ]
  }
 ],
 "metadata": {
  "kernelspec": {
   "display_name": "Python 3",
   "language": "python",
   "name": "python3"
  },
  "language_info": {
   "codemirror_mode": {
    "name": "ipython",
    "version": 3
   },
   "file_extension": ".py",
   "mimetype": "text/x-python",
   "name": "python",
   "nbconvert_exporter": "python",
   "pygments_lexer": "ipython3",
   "version": "3.6.8"
  }
 },
 "nbformat": 4,
 "nbformat_minor": 2
}
