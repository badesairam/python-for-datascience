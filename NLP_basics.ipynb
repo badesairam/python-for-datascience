{
 "cells": [
  {
   "cell_type": "code",
   "execution_count": 61,
   "metadata": {},
   "outputs": [
    {
     "name": "stdout",
     "output_type": "stream",
     "text": [
      "Displaying 1 of 1 matches:\n",
      " that Emma could not but feel some surprise , and a little displeasure , on he\n"
     ]
    }
   ],
   "source": [
    "#corpora can be downloaded by nltk.download()\n",
    "import pprint\n",
    "import nltk,re\n",
    "from nltk.corpus import gutenberg\n",
    "len(gutenberg.words(gutenberg.fileids()[0]))\n",
    "emma = nltk.Text(gutenberg.words('austen-emma.txt'))\n",
    "emma.concordance(\"surprise\")"
   ]
  },
  {
   "cell_type": "code",
   "execution_count": 53,
   "metadata": {},
   "outputs": [
    {
     "name": "stdout",
     "output_type": "stream",
     "text": [
      "what the, the hell\n"
     ]
    }
   ],
   "source": [
    "#collocations most frequent bigrams (words that occur together like bigrams)\n",
    "bigrm = nltk.bigrams(['what','the','hell'])\n",
    "print(*map(' '.join, bigrm), sep=', ')"
   ]
  },
  {
   "cell_type": "markdown",
   "metadata": {},
   "source": [
    "# challenges in NLP\n",
    "> Word Sense Disambiguation <br>\n",
    "Pronoun Resolution <br>\n",
    "Generating Language Output <br>\n",
    "Recognizing Textual Entailment ( natural language reasoning) <br>"
   ]
  },
  {
   "cell_type": "code",
   "execution_count": 54,
   "metadata": {
    "scrolled": true
   },
   "outputs": [
    {
     "name": "stdout",
     "output_type": "stream",
     "text": [
      "['i', 'me', 'my', 'myself', 'we', 'our', 'ours', 'ourselves', 'you', \"you're\", \"you've\", \"you'll\", \"you'd\", 'your', 'yours', 'yourself', 'yourselves', 'he', 'him', 'his']\n",
      "#############################\n",
      "[Synset('car.n.01')]\n",
      "a motor vehicle with four wheels; usually propelled by an internal combustion engine\n",
      "[Lemma('car.n.01.car'), Lemma('car.n.01.auto'), Lemma('car.n.01.automobile'), Lemma('car.n.01.machine'), Lemma('car.n.01.motorcar')]\n"
     ]
    }
   ],
   "source": [
    "#lexical resources\n",
    "#nltk.download('words')\n",
    "# nltk.download('stopwords')\n",
    "english_vocab = set(w.lower() for w in nltk.corpus.words.words()) #proper english words used for speel check\n",
    "stpwrds=nltk.corpus.stopwords.words('english')\n",
    "print(stpwrds[:20])\n",
    "\n",
    "print(\"#############################\")\n",
    "#nltk.download('wordnet') #mostly for nouns but there is a verb net as well\n",
    "from nltk.corpus import wordnet as wn\n",
    "print(wn.synsets('motorcar')) #synonym set #unambiguos\n",
    "\n",
    "print(wn.synset('car.n.01').definition()) #ambiguous with multiple synsets\n",
    "print(wn.synset('car.n.01').lemmas())\n",
    "\n",
    "#synsets are linked by a complex network of lexical relations"
   ]
  },
  {
   "cell_type": "markdown",
   "metadata": {},
   "source": [
    "# Data Processing"
   ]
  },
  {
   "cell_type": "markdown",
   "metadata": {},
   "source": [
    "tokenization ==> break string into words with whitespaces and special characters as delimiters\n"
   ]
  },
  {
   "cell_type": "code",
   "execution_count": 65,
   "metadata": {
    "scrolled": true
   },
   "outputs": [
    {
     "name": "stdout",
     "output_type": "stream",
     "text": [
      "['god', 'why', '.', 'a', 'full', 'stop', 'here', ',']\n",
      "good that I have content\n"
     ]
    }
   ],
   "source": [
    "# nltk.download('punkt')\n",
    "tokens = nltk.word_tokenize(\"Oh! god why. a full stop     here , what is   going on?\")\n",
    "text = nltk.Text(tokens)\n",
    "print(text[2:10])\n",
    "f = open('write_example.txt','w')\n",
    "f.write(\"good that I have content\")\n",
    "f.close()\n",
    "f = open('write_example.txt','r')\n",
    "raw_text = f.read()\n",
    "print(raw_text)"
   ]
  },
  {
   "cell_type": "code",
   "execution_count": 69,
   "metadata": {},
   "outputs": [
    {
     "name": "stdout",
     "output_type": "stream",
     "text": [
      "makes sense ,but why would I use it\n",
      "makes sense,\n",
      "            => this is the better way\n"
     ]
    }
   ],
   "source": [
    "#strings\n",
    "two_lines = (\"makes sense ,\"\n",
    "            \"but why would I use it\") #will be printed in one line\n",
    "print(two_lines)\n",
    "two_lines = \"\"\"makes sense,\n",
    "            => this is the better way\"\"\"\n",
    "print(two_lines)"
   ]
  }
 ],
 "metadata": {
  "kernelspec": {
   "display_name": "Python (tf_gpu)",
   "language": "python",
   "name": "tf_gpu"
  },
  "language_info": {
   "codemirror_mode": {
    "name": "ipython",
    "version": 3
   },
   "file_extension": ".py",
   "mimetype": "text/x-python",
   "name": "python",
   "nbconvert_exporter": "python",
   "pygments_lexer": "ipython3",
   "version": "3.6.8"
  }
 },
 "nbformat": 4,
 "nbformat_minor": 2
}
