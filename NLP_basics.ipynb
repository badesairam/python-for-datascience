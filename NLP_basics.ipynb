{
 "cells": [
  {
   "cell_type": "code",
   "execution_count": 20,
   "metadata": {},
   "outputs": [
    {
     "name": "stdout",
     "output_type": "stream",
     "text": [
      "Displaying 1 of 1 matches:\n",
      " that Emma could not but feel some surprise , and a little displeasure , on he\n"
     ]
    }
   ],
   "source": [
    "#corpora can be downloaded by nltk.download()\n",
    "import pprint\n",
    "import nltk,re\n",
    "# nltk.download('gutenberg')\n",
    "from nltk.corpus import gutenberg\n",
    "len(gutenberg.words(gutenberg.fileids()[0]))\n",
    "emma = nltk.Text(gutenberg.words('austen-emma.txt'))\n",
    "emma.concordance(\"surprise\")"
   ]
  },
  {
   "cell_type": "code",
   "execution_count": 21,
   "metadata": {},
   "outputs": [
    {
     "name": "stdout",
     "output_type": "stream",
     "text": [
      "what the, the hell\n"
     ]
    }
   ],
   "source": [
    "#collocations most frequent bigrams (words that occur together like bigrams)\n",
    "bigrm = nltk.bigrams(['what','the','hell'])\n",
    "print(*map(' '.join, bigrm), sep=', ')"
   ]
  },
  {
   "cell_type": "markdown",
   "metadata": {},
   "source": [
    "# challenges in NLP\n",
    "> Word Sense Disambiguation <br>\n",
    "Pronoun Resolution <br>\n",
    "Generating Language Output <br>\n",
    "Recognizing Textual Entailment ( natural language reasoning) <br>"
   ]
  },
  {
   "cell_type": "code",
   "execution_count": 22,
   "metadata": {
    "scrolled": false
   },
   "outputs": [
    {
     "name": "stdout",
     "output_type": "stream",
     "text": [
      "['i', 'me', 'my', 'myself', 'we', 'our', 'ours', 'ourselves', 'you', \"you're\", \"you've\", \"you'll\", \"you'd\", 'your', 'yours', 'yourself', 'yourselves', 'he', 'him', 'his']\n",
      "#############################\n",
      "[Synset('car.n.01')]\n",
      "a motor vehicle with four wheels; usually propelled by an internal combustion engine\n",
      "[Lemma('car.n.01.car'), Lemma('car.n.01.auto'), Lemma('car.n.01.automobile'), Lemma('car.n.01.machine'), Lemma('car.n.01.motorcar')]\n"
     ]
    }
   ],
   "source": [
    "#lexical resources\n",
    "# nltk.download('words')\n",
    "# nltk.download('stopwords')\n",
    "english_vocab = set(w.lower() for w in nltk.corpus.words.words()) #proper english words used for speel check\n",
    "stpwrds=nltk.corpus.stopwords.words('english')\n",
    "print(stpwrds[:20])\n",
    "\n",
    "print(\"#############################\")\n",
    "# nltk.download('wordnet') #mostly for nouns but there is a verb net as well\n",
    "from nltk.corpus import wordnet as wn\n",
    "print(wn.synsets('motorcar')) #synonym set #unambiguos\n",
    "\n",
    "print(wn.synset('car.n.01').definition()) #ambiguous with multiple synsets\n",
    "print(wn.synset('car.n.01').lemmas())\n",
    "\n",
    "#synsets are linked by a complex network of lexical relations"
   ]
  },
  {
   "cell_type": "markdown",
   "metadata": {},
   "source": [
    "# Data Processing"
   ]
  },
  {
   "cell_type": "markdown",
   "metadata": {},
   "source": [
    "tokenization ==> break string into words with whitespaces and special characters as delimiters\n"
   ]
  },
  {
   "cell_type": "code",
   "execution_count": 23,
   "metadata": {
    "scrolled": true
   },
   "outputs": [
    {
     "name": "stdout",
     "output_type": "stream",
     "text": [
      "['god', 'why', '.', 'a', 'full', 'stop', 'here', ',']\n",
      "good that I have content\n"
     ]
    }
   ],
   "source": [
    "# nltk.download('punkt')\n",
    "tokens = nltk.word_tokenize(\"Oh! god why. a full stop     here , what is   going on?\")\n",
    "text = nltk.Text(tokens)\n",
    "print(text[2:10])\n",
    "f = open('write_example.txt','w')\n",
    "f.write(\"good that I have content\")\n",
    "f.close()\n",
    "f = open('write_example.txt','r')\n",
    "raw_text = f.read()\n",
    "print(raw_text)"
   ]
  },
  {
   "cell_type": "code",
   "execution_count": 24,
   "metadata": {},
   "outputs": [
    {
     "name": "stdout",
     "output_type": "stream",
     "text": [
      "makes sense ,but why would I use it\n",
      "makes sense,\n",
      "            => this is the better way\n"
     ]
    }
   ],
   "source": [
    "#strings\n",
    "two_lines = (\"makes sense ,\"\n",
    "            \"but why would I use it\") #will be printed in one line\n",
    "print(two_lines)\n",
    "two_lines = \"\"\"makes sense,\n",
    "            => this is the better way\"\"\"\n",
    "print(two_lines)"
   ]
  },
  {
   "cell_type": "code",
   "execution_count": 25,
   "metadata": {
    "scrolled": true
   },
   "outputs": [
    {
     "name": "stdout",
     "output_type": "stream",
     "text": [
      "['strang', 'women', 'lie', 'in', 'pond', 'distribut', 'sword']\n",
      "['strange', 'wom', 'lying', 'in', 'pond', 'distribut', 'sword']\n",
      "['strange', 'woman', 'lying', 'in', 'pond', 'distributing', 'sword']\n"
     ]
    }
   ],
   "source": [
    "#stemmers and lemmatizers\n",
    "porter = nltk.PorterStemmer()\n",
    "lancaster = nltk.LancasterStemmer()\n",
    "raw = \"strange women lying in ponds distributing swords\"\n",
    "tokens = nltk.word_tokenize(raw)\n",
    "print([porter.stem(t) for t in tokens])\n",
    "print([lancaster.stem(t) for t in tokens])\n",
    "\n",
    "#provides valid lemmas and removes  affixes only if the resultig word is in the good words dictionary\n",
    "wnl = nltk.WordNetLemmatizer()\n",
    "print([wnl.lemmatize(t) for t in tokens])"
   ]
  },
  {
   "cell_type": "code",
   "execution_count": 26,
   "metadata": {
    "scrolled": true
   },
   "outputs": [
    {
     "name": "stdout",
     "output_type": "stream",
     "text": [
      "yes\n",
      "['nice']\n"
     ]
    }
   ],
   "source": [
    "#python assignmnet \n",
    "w = 'yes'\n",
    "word = w\n",
    "word = 'lol' #creates a local variable word\n",
    "print(w)\n",
    "\n",
    "p = []\n",
    "properties = p\n",
    "properties.append('nice') #both p and properties point to same variable\n",
    "properties = ['common'] #creates a new local variable properties\n",
    "print(p)\n"
   ]
  },
  {
   "cell_type": "markdown",
   "metadata": {},
   "source": [
    "# Higher order functions"
   ]
  },
  {
   "cell_type": "code",
   "execution_count": 27,
   "metadata": {
    "scrolled": true
   },
   "outputs": [
    {
     "name": "stdout",
     "output_type": "stream",
     "text": [
      "['e', 'e', 'a']\n",
      "[False, True, True, False, False, False, False, False, True]\n",
      "['G', 'E', 'E', 'J', 'K', 'S', 'P', 'R', 'A']\n"
     ]
    }
   ],
   "source": [
    "#filter\n",
    "def fun(variable): \n",
    "    letters = ['a', 'e', 'i', 'o', 'u'] \n",
    "    if (variable in letters): \n",
    "        return True\n",
    "    else: \n",
    "        return False\n",
    "    \n",
    "sequence = ['g', 'e', 'e', 'j', 'k', 's', 'p', 'r','a'] \n",
    "filtered = filter(fun,sequence)\n",
    "print(list(filtered))\n",
    "#map\n",
    "#applies function to every input\n",
    "apply_fun = map(fun,sequence)\n",
    "print(list(apply_fun))\n",
    "upper_case_convert = map(lambda w: w.upper(),sequence)\n",
    "print(list(upper_case_convert))"
   ]
  },
  {
   "cell_type": "code",
   "execution_count": 29,
   "metadata": {},
   "outputs": [
    {
     "name": "stdout",
     "output_type": "stream",
     "text": [
      "C:\\Users\\sairam.bade\\AppData\\Local\\Continuum\\anaconda3\\envs\\tf_gpu\\lib\\site-packages\\nltk\\translate\\metrics.py\n"
     ]
    }
   ],
   "source": [
    "print(nltk.metrics.__file__)"
   ]
  }
 ],
 "metadata": {
  "kernelspec": {
   "display_name": "Python 3",
   "language": "python",
   "name": "python3"
  },
  "language_info": {
   "codemirror_mode": {
    "name": "ipython",
    "version": 3
   },
   "file_extension": ".py",
   "mimetype": "text/x-python",
   "name": "python",
   "nbconvert_exporter": "python",
   "pygments_lexer": "ipython3",
   "version": "3.6.8"
  }
 },
 "nbformat": 4,
 "nbformat_minor": 2
}

