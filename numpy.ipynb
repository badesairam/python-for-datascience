{
 "cells": [
  {
   "cell_type": "markdown",
   "metadata": {},
   "source": [
    "# World of Numpy\n"
   ]
  },
  {
   "cell_type": "markdown",
   "metadata": {},
   "source": [
    "NumPy is a wonderful Python package produced by Travis Oliphant, which\n",
    "has been created fundamentally for scientific computing. It helps handle large\n",
    "multidimensional arrays and matrices, along with a large library of high-level\n",
    "mathematical functions to operate on these arrays.\n",
    "\n",
    "## lists vs numpy\n",
    "All Numpy array elements are of same type unlike lists.\n",
    "Numpy data structures take up less space and better runtime behaviour.<br>\n",
    "**Memory consumed by a list::**<br>\n",
    "> contains a pointer to ablock of pointers, each of which in turn points to a full Python object<br>\n",
    "It involves a header(64 bytes) and a refernce to the actual DS stores(8 byte addresses) and an int takes 24 bytes {different than int in C++ which is a data type while int in Python is a full fledged object} <br/>\n",
    "    so totally = 64 + 8*len(list) + len(list)*24 <br>\n",
    "    \n",
    "\n",
    "**Memory consumed by a numpy array::**<br>\n",
    ">As it doesnt multiple datatypes , numpy can store directly the data types rather than python objects that int can be stored in 8 bytes<br>\n",
    "It involves a header followed by ints(8 bytes) \n",
    "    so totaly = 96 + len(arr)*8"
   ]
  },
  {
   "cell_type": "markdown",
   "metadata": {},
   "source": [
    "A Python Integer is more than just an integer,it is similar to a C++ class. <br>\n",
    "A int type object in python has <br>\n",
    "struct _longobject {<br>\n",
    "    &emsp;long ob_refcnt;<br>\n",
    "    &emsp;PyTypeObject *ob_type;<br>\n",
    "    &emsp;size_t ob_size;<br>\n",
    "    &emsp;long ob_digit[1];<br>\n",
    "};"
   ]
  },
  {
   "cell_type": "code",
   "execution_count": 55,
   "metadata": {},
   "outputs": [
    {
     "name": "stdout",
     "output_type": "stream",
     "text": [
      "24\n",
      "49\n"
     ]
    }
   ],
   "source": [
    "#python data objects\n",
    "import sys\n",
    "print(sys.getsizeof(int()))\n",
    "print(sys.getsizeof(str()))"
   ]
  },
  {
   "cell_type": "code",
   "execution_count": 2,
   "metadata": {},
   "outputs": [],
   "source": [
    "import numpy as np"
   ]
  },
  {
   "cell_type": "code",
   "execution_count": 67,
   "metadata": {},
   "outputs": [
    {
     "name": "stdout",
     "output_type": "stream",
     "text": [
      "[[0 1 2 3]\n",
      " [4 5 6 7]]\n",
      "ndim: 2\n",
      "size: 8\n",
      "shape: (2, 4)\n",
      "dtype: int32\n",
      "itemsize: 4 bytes\n",
      "nbytes: 32 bytes\n"
     ]
    }
   ],
   "source": [
    "n_array = np.array([[0,1,2,3],[4,5,6,7]])\n",
    "print(n_array)\n",
    "#lot of attrivrutes which gives information about the anumpy arrays\n",
    "print(\"ndim:\", n_array.ndim) # number of dimensions\n",
    "print(\"size:\",n_array.size) #total number of elements\n",
    "print(\"shape:\", n_array.shape) \n",
    "print(\"dtype:\",n_array.dtype)\n",
    "print(\"itemsize:\",n_array.itemsize,\"bytes\")\n",
    "print(\"nbytes:\",n_array.nbytes,\"bytes\") #size*itemsize"
   ]
  },
  {
   "cell_type": "code",
   "execution_count": 95,
   "metadata": {
    "scrolled": true
   },
   "outputs": [
    {
     "name": "stdout",
     "output_type": "stream",
     "text": [
      "[[1 1]\n",
      " [1 1]]\n",
      "[[ 1  4]\n",
      " [ 9 16]]\n",
      "[[ 0.54030231 -0.41614684]\n",
      " [-0.9899925  -0.65364362]]\n",
      "[[False  True]\n",
      " [False False]]\n",
      "[[ 0  2]\n",
      " [ 6 12]]\n",
      "[[ 4  7]\n",
      " [ 8 15]]\n",
      "[[ 4  7]\n",
      " [ 8 15]]\n"
     ]
    }
   ],
   "source": [
    "#arithmetic \n",
    "a = np.array([[1,2],[3,4]])\n",
    "b = np.array([[0,1],[2,3]])\n",
    "print(a-b);\n",
    "print(a**2)\n",
    "print(np.cos(a))\n",
    "\n",
    "#conditional operators\n",
    "#mind the use of &(bitwise) here instead of (and) which tries to do the falsehood of whole arrat which is not well defined\n",
    "print((a<=2) & (a>1))\n",
    "\n",
    "\n",
    "print(a*b) #element wise multiplication\n",
    "\n",
    "#matrix multiplication\n",
    "print(a.dot(b))\n",
    "print(a@b)"
   ]
  },
  {
   "cell_type": "code",
   "execution_count": 90,
   "metadata": {},
   "outputs": [
    {
     "name": "stdout",
     "output_type": "stream",
     "text": [
      "[[0 1 2 3]\n",
      " [4 5 6 7]]\n",
      "[[2 3]\n",
      " [6 7]]\n",
      "[[2]\n",
      " [6]]\n",
      "[[3 2 1 0]]\n",
      "[[-1  1  2  3]\n",
      " [ 4  5  6  7]]\n",
      "[[0 1 2 3]\n",
      " [4 5 6 7]]\n"
     ]
    }
   ],
   "source": [
    "#subarrays(copies and views)\n",
    "\n",
    "print(n_array)\n",
    "print(n_array[:,2:])\n",
    "print(n_array[:,2:-1])\n",
    "\n",
    "print(n_array[::2,::-1]) ## linspace of 2 in rows and reverse in columns\n",
    "\n",
    "#subarrays create views i.e; changes in the sub array are reflected in the main array\n",
    "s_array = n_array[0,:]\n",
    "s_array[0] = -1 #change first element in subaarray\n",
    "print(n_array)\n",
    "n_array[0,0]=0 # reset n_array\n",
    "s_array_copy = n_array[0,:].copy() #creates a copy rather than a view\n",
    "s_array_copy[0] = -1\n",
    "print(n_array)"
   ]
  },
  {
   "cell_type": "code",
   "execution_count": 89,
   "metadata": {},
   "outputs": [
    {
     "name": "stdout",
     "output_type": "stream",
     "text": [
      "[0 1 2 3 4 5 6 7]\n",
      "[[0 1]\n",
      " [2 3]\n",
      " [4 5]\n",
      " [6 7]]\n",
      "[[0 2 4 6]\n",
      " [1 3 5 7]]\n",
      "[[0 1 2 3]\n",
      " [4 5 6 7]]\n"
     ]
    }
   ],
   "source": [
    "#array reshaping \n",
    "n_flat = n_array.ravel() #flatten\n",
    "print(n_flat)\n",
    "n_flat.shape = (4,2)\n",
    "print(n_flat)\n",
    "print(n_flat.transpose())\n",
    "#easy reshape\n",
    "n_array = np.arange(0,8).reshape((2,4))\n",
    "print(n_array)"
   ]
  },
  {
   "cell_type": "code",
   "execution_count": 94,
   "metadata": {},
   "outputs": [
    {
     "name": "stdout",
     "output_type": "stream",
     "text": [
      "[[0 1 2]\n",
      " [1 2 3]\n",
      " [2 3 4]]\n"
     ]
    },
    {
     "data": {
      "text/plain": [
       "array([4, 5, 6, 7])"
      ]
     },
     "execution_count": 94,
     "metadata": {},
     "output_type": "execute_result"
    }
   ],
   "source": [
    "#broadcasting (always add index 1 at left hand side)\n",
    "a = np.arange(3)\n",
    "b = np.arange(3)[:,np.newaxis]\n",
    "print(a+b) #broadcasting of array b on a"
   ]
  },
  {
   "cell_type": "code",
   "execution_count": 97,
   "metadata": {
    "scrolled": true
   },
   "outputs": [
    {
     "name": "stdout",
     "output_type": "stream",
     "text": [
      "[[ 0  1  2  3]\n",
      " [ 4  5  6  7]\n",
      " [ 8  9 10 11]]\n",
      "[2 5 7]\n"
     ]
    }
   ],
   "source": [
    "#fancy indexing\n",
    "X = np.arange(12).reshape((3,4))\n",
    "print(X)\n",
    "row = np.array([0,1,1])\n",
    "col = np.array([2,1,3])\n",
    "print(X[row,col])"
   ]
  },
  {
   "cell_type": "code",
   "execution_count": 100,
   "metadata": {},
   "outputs": [
    {
     "name": "stdout",
     "output_type": "stream",
     "text": [
      "[('name', '<U10'), ('age', '<i4'), ('wt', '<f8')]\n"
     ]
    }
   ],
   "source": [
    "#numpy structured arrays (Use Pandas instead)\n",
    "data = np.zeros(4,dtype={'names':('name','age','wt'),'formats':('U10','i4','f8')})\n",
    "print(data.dtype)"
   ]
  },
  {
   "cell_type": "code",
   "execution_count": 103,
   "metadata": {},
   "outputs": [
    {
     "data": {
      "text/plain": [
       "array([1, 6, 4])"
      ]
     },
     "execution_count": 103,
     "metadata": {},
     "output_type": "execute_result"
    }
   ],
   "source": [
    "#where with conditional arguments\n",
    "result = np.where([True,False,True],[1,2,4],[5,6,7])\n",
    "result"
   ]
  }
 ],
 "metadata": {
  "kernelspec": {
   "display_name": "Python (tf_gpu)",
   "language": "python",
   "name": "tf_gpu"
  },
  "language_info": {
   "codemirror_mode": {
    "name": "ipython",
    "version": 3
   },
   "file_extension": ".py",
   "mimetype": "text/x-python",
   "name": "python",
   "nbconvert_exporter": "python",
   "pygments_lexer": "ipython3",
   "version": "3.6.8"
  }
 },
 "nbformat": 4,
 "nbformat_minor": 2
}
